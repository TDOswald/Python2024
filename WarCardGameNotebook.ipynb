{
 "cells": [
  {
   "cell_type": "markdown",
   "metadata": {},
   "source": [
    "# Notebook for War Card Game"
   ]
  },
  {
   "cell_type": "markdown",
   "metadata": {},
   "source": [
    "this project will be a \"War\" card game, that will try to simulate the cardgame, building from basic concepts to complete game. \n",
    "\n",
    "Key functions.\n",
    "-The deck\n",
    "-Shuffle\n",
    "-Pull Card\n",
    "-Compare Card\n",
    "-Discard Pile\n",
    "-End Game\n",
    "\n",
    "Start with a small deck, all numerical. THen introduce Face cards, then suits."
   ]
  },
  {
   "cell_type": "code",
   "execution_count": 1,
   "metadata": {},
   "outputs": [
    {
     "name": "stdout",
     "output_type": "stream",
     "text": [
      "My card is 3, Your card is 6, Loss\n",
      "My card is 8, Your card is 2, Win\n",
      "My card is 6, Your card is 9, Loss\n",
      "My card is 7, Your card is 2, Win\n",
      "My card is 5, Your card is 8, Loss\n",
      "My card is 3, Your card is 1, Win\n",
      "My card is 4, Your card is 7, Loss\n",
      "My card is 5, Your card is 1, Win\n",
      "My wins 4, your wins 4, Tie\n"
     ]
    }
   ],
   "source": [
    "# import random\n",
    "\n",
    "from random import shuffle\n",
    "\n",
    "# Specify deck\n",
    "\n",
    "carddeck = [1,2,3,4,5,6,7,8,8,7,6,5,4,3,2,1,9]\n",
    "\n",
    "# initialize new deck, used deck\n",
    "\n",
    "deck = carddeck\n",
    "shuffle(deck)\n",
    "useddeck = []\n",
    "\n",
    "# Reset wins\n",
    "\n",
    "mywins = 0\n",
    "yourwins = 0\n",
    "\n",
    "# Play a hand (While deck.remaining > 1, pop mycard, yourcard, if mycard>yourcard mywins += 1)\n",
    "\n",
    "while len(deck) > 1:\n",
    "    \n",
    "    mycard = deck.pop()\n",
    "    useddeck.append(mycard)\n",
    "    print(f'My card is {mycard}', end = '')\n",
    "\n",
    "    yourcard = deck.pop()\n",
    "    useddeck.append(yourcard)\n",
    "    print(f', Your card is {yourcard}', end = ''),\n",
    "\n",
    "    # Who won?\n",
    "\n",
    "    if mycard > yourcard:\n",
    "        mywins += 1 \n",
    "        print(', Win')\n",
    "    elif yourcard > mycard:\n",
    "        yourwins += 1\n",
    "        print(', Loss')\n",
    "    else: \n",
    "        print(', Tie')\n",
    "\n",
    "# determine winner (if mywins> yourwins)\n",
    "\n",
    "print(f'My wins {mywins}, your wins {yourwins}', end = '')\n",
    "if mywins > yourwins:\n",
    "    print(', I Win Overall', end = '')\n",
    "elif yourwins > mywins:\n",
    "    print(', I Lose Overall', end = '')\n",
    "else:\n",
    "    print(', Tie')\n",
    "    "
   ]
  },
  {
   "cell_type": "code",
   "execution_count": 49,
   "metadata": {},
   "outputs": [
    {
     "data": {
      "text/plain": [
       "[8, 7, 1, 2, 3, 2, 7, 1, 9, 5, 4, 6, 6, 5, 4, 8]"
      ]
     },
     "execution_count": 49,
     "metadata": {},
     "output_type": "execute_result"
    }
   ],
   "source": [
    "useddeck"
   ]
  },
  {
   "cell_type": "code",
   "execution_count": 50,
   "metadata": {},
   "outputs": [
    {
     "data": {
      "text/plain": [
       "[3]"
      ]
     },
     "execution_count": 50,
     "metadata": {},
     "output_type": "execute_result"
    }
   ],
   "source": [
    "deck\n"
   ]
  },
  {
   "cell_type": "code",
   "execution_count": 8,
   "metadata": {},
   "outputs": [
    {
     "name": "stdout",
     "output_type": "stream",
     "text": [
      "1\n",
      "2\n",
      "3\n"
     ]
    }
   ],
   "source": [
    "my_iterable = [1,2,3]\n",
    "for item_name in my_iterable:\n",
    "    print(item_name)\n",
    "    "
   ]
  },
  {
   "cell_type": "code",
   "execution_count": 9,
   "metadata": {},
   "outputs": [],
   "source": [
    "mylist = [1,2,3,4,5,6,7,8,9,10]"
   ]
  },
  {
   "cell_type": "code",
   "execution_count": 51,
   "metadata": {},
   "outputs": [
    {
     "name": "stdout",
     "output_type": "stream",
     "text": [
      "1\n",
      "9\n",
      "8\n",
      "5\n",
      "7\n",
      "10\n",
      "3\n",
      "6\n",
      "4\n",
      "2\n"
     ]
    }
   ],
   "source": [
    "shuffle(mylist)\n",
    "for num in mylist:\n",
    "    print(num)"
   ]
  },
  {
   "cell_type": "code",
   "execution_count": 6,
   "metadata": {},
   "outputs": [
    {
     "name": "stdout",
     "output_type": "stream",
     "text": [
      "My card is 1, Your card is 5, Loss\n",
      "My card is 7, Your card is 8, Loss\n",
      "My card is 3, Your card is 10, Loss\n",
      "My card is 10, Your card is 6, Win\n",
      "My card is 10, Your card is 4, Win\n",
      "My card is 6, Your card is 1, Win\n",
      "My card is 7, Your card is 7, Tie\n",
      "My card is 9, Your card is 6, Win\n",
      "My card is 6, Your card is 6, Tie\n",
      "My card is 7, Your card is 2, Win\n",
      "My card is 9, Your card is 7, Win\n",
      "My card is 8, Your card is 5, Win\n",
      "My card is 4, Your card is 2, Win\n",
      "My wins 8, your wins 3, I Win Overall"
     ]
    }
   ],
   "source": [
    "# import random\n",
    "\n",
    "from random import shuffle\n",
    "\n",
    "# Specify deck\n",
    "\n",
    "carddeck = [1,2,3,4,5,6,7,8,8,7,6,5,4,3,2,1,9,10,10,10,9,6,6,6,7,7,7]\n",
    "\n",
    "# initialize new deck and used deck; shuffle\n",
    "\n",
    "deck = carddeck\n",
    "shuffle(deck)\n",
    "useddeck = []\n",
    "\n",
    "# Reset wins\n",
    "\n",
    "mywins = 0\n",
    "yourwins = 0\n",
    "\n",
    "# Loop to play hands\n",
    "\n",
    "while len(deck) > 1:\n",
    "    \n",
    "    mycard = deck.pop()\n",
    "    useddeck.append(mycard)\n",
    "    print(f'My card is {mycard}', end = '')\n",
    "\n",
    "    yourcard = deck.pop()\n",
    "    useddeck.append(yourcard)\n",
    "    print(f', Your card is {yourcard}', end = ''),\n",
    "\n",
    "    # Who won?\n",
    "\n",
    "    if mycard > yourcard:\n",
    "        mywins += 1 \n",
    "        print(', Win')\n",
    "    elif yourcard > mycard:\n",
    "        yourwins += 1\n",
    "        print(', Loss')\n",
    "    else: \n",
    "        print(', Tie')\n",
    "\n",
    "# Overall winner\n",
    "\n",
    "print(f'My wins {mywins}, your wins {yourwins}', end = '')\n",
    "if mywins > yourwins:\n",
    "    print(', I Win Overall', end = '')\n",
    "elif yourwins > mywins:\n",
    "    print(', I Lose Overall', end = '')\n",
    "else:\n",
    "    print(', Tie')"
   ]
  },
  {
   "cell_type": "code",
   "execution_count": 7,
   "metadata": {},
   "outputs": [
    {
     "data": {
      "text/plain": [
       "[3]"
      ]
     },
     "execution_count": 7,
     "metadata": {},
     "output_type": "execute_result"
    }
   ],
   "source": [
    "deck"
   ]
  },
  {
   "cell_type": "code",
   "execution_count": null,
   "metadata": {},
   "outputs": [],
   "source": []
  }
 ],
 "metadata": {
  "kernelspec": {
   "display_name": "Python 3",
   "language": "python",
   "name": "python3"
  },
  "language_info": {
   "codemirror_mode": {
    "name": "ipython",
    "version": 3
   },
   "file_extension": ".py",
   "mimetype": "text/x-python",
   "name": "python",
   "nbconvert_exporter": "python",
   "pygments_lexer": "ipython3",
   "version": "3.7.6"
  }
 },
 "nbformat": 4,
 "nbformat_minor": 4
}
